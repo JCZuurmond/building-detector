{
 "cells": [
  {
   "cell_type": "code",
   "execution_count": 1,
   "metadata": {},
   "outputs": [],
   "source": [
    "%matplotlib inline\n",
    "%reload_ext autoreload\n",
    "%autoreload 2"
   ]
  },
  {
   "cell_type": "markdown",
   "metadata": {},
   "source": [
    "# Filtter wfs with bounding box\n",
    "\n",
    "This notebook filters a WFS request with a bounding box. The building WFS service of pdok is used, a.k.a. the [bag](https://www.pdok.nl/geo-services/-/article/basisregistratie-adressen-en-gebouwen-ba-1#45d074fd320dabee548d5a8bf1fed85e)."
   ]
  },
  {
   "cell_type": "code",
   "execution_count": 2,
   "metadata": {},
   "outputs": [],
   "source": [
    "import logging\n",
    "from itertools import chain\n",
    "from pathlib import Path\n",
    "\n",
    "import geopandas as gpd\n",
    "import ogr\n",
    "from owslib.etree import etree\n",
    "from owslib.wfs import WebFeatureService\n",
    "\n",
    "from building_detector import helpers\n",
    "\n",
    "\n",
    "logging.basicConfig(\n",
    "    format='%(message)s',\n",
    "    level=logging.INFO\n",
    ")\n",
    "wfs_url = 'https://geodata.nationaalgeoregister.nl/bag/wfs/v1_1'"
   ]
  },
  {
   "cell_type": "code",
   "execution_count": 3,
   "metadata": {
    "scrolled": true
   },
   "outputs": [
    {
     "data": {
      "text/plain": [
       "'BAG WFS'"
      ]
     },
     "execution_count": 3,
     "metadata": {},
     "output_type": "execute_result"
    }
   ],
   "source": [
    "wfs = WebFeatureService(wfs_url, version='2.0.0')\n",
    "wfs.identification.title"
   ]
  },
  {
   "cell_type": "code",
   "execution_count": 4,
   "metadata": {},
   "outputs": [
    {
     "name": "stdout",
     "output_type": "stream",
     "text": [
      "The WFS has the following layers\n"
     ]
    },
    {
     "data": {
      "text/plain": [
       "['bag:bag',\n",
       " 'bag:ligplaats',\n",
       " 'bag:pand',\n",
       " 'bag:standplaats',\n",
       " 'bag:verblijfsobject',\n",
       " 'bag:woonplaats']"
      ]
     },
     "execution_count": 4,
     "metadata": {},
     "output_type": "execute_result"
    }
   ],
   "source": [
    "print('The WFS has the following layers')\n",
    "list(wfs.contents)"
   ]
  },
  {
   "cell_type": "markdown",
   "metadata": {},
   "source": [
    "We need the `'bag:pand'` (`'pand'` is `'building'` in Dutch)."
   ]
  },
  {
   "cell_type": "code",
   "execution_count": 5,
   "metadata": {
    "scrolled": true
   },
   "outputs": [
    {
     "data": {
      "text/plain": [
       "{'properties': {'gid': 'long',\n",
       "  'identificatie': 'string',\n",
       "  'bouwjaar': 'integer',\n",
       "  'status': 'string',\n",
       "  'gebruiksdoel': 'string',\n",
       "  'oppervlakte_min': 'integer',\n",
       "  'oppervlakte_max': 'integer',\n",
       "  'aantal_verblijfsobjecten': 'integer',\n",
       "  'rdf_seealso': 'string'},\n",
       " 'geometry': 'GeometryCollection',\n",
       " 'geometry_column': 'geometrie'}"
      ]
     },
     "execution_count": 5,
     "metadata": {},
     "output_type": "execute_result"
    }
   ],
   "source": [
    "layer_name = 'bag:pand'\n",
    "wfs.get_schema(layer_name)"
   ]
  },
  {
   "cell_type": "markdown",
   "metadata": {},
   "source": [
    "Get the bounding box of some gml:"
   ]
  },
  {
   "cell_type": "code",
   "execution_count": 6,
   "metadata": {},
   "outputs": [
    {
     "data": {
      "text/plain": [
       "BBox(xmin=110188.384, ymin=476770.797, xmax=134029.81, ymax=493893.636)"
      ]
     },
     "execution_count": 6,
     "metadata": {},
     "output_type": "execute_result"
    }
   ],
   "source": [
    "muni = 'Amsterdam'\n",
    "muni_path = Path(f'../data/{muni}.gml'.lower())\n",
    "envelope = gpd.read_file(muni_path).envelope\n",
    "bbox = helpers.Bbox.from_poly(envelope[0])\n",
    "bbox"
   ]
  },
  {
   "cell_type": "code",
   "execution_count": 7,
   "metadata": {},
   "outputs": [
    {
     "data": {
      "text/plain": [
       "1534256"
      ]
     },
     "execution_count": 7,
     "metadata": {},
     "output_type": "execute_result"
    }
   ],
   "source": [
    "response = wfs.getfeature(\n",
    "    typename=layer_name,\n",
    "    bbox=tuple(chain(*bbox)),\n",
    "    maxfeatures=1000,            # combined can be\n",
    "    startindex=2000              # used to do paging\n",
    ")\n",
    "\n",
    "layer_name_clean = layer_name.replace(':', '_')\n",
    "layer_path = muni_path.parent / f'{muni_path.stem}_{layer_name_clean}.gml'\n",
    "layer_path.write_bytes(response.read())"
   ]
  }
 ],
 "metadata": {
  "kernelspec": {
   "display_name": "Python 3",
   "language": "python",
   "name": "python3"
  },
  "language_info": {
   "codemirror_mode": {
    "name": "ipython",
    "version": 3
   },
   "file_extension": ".py",
   "mimetype": "text/x-python",
   "name": "python",
   "nbconvert_exporter": "python",
   "pygments_lexer": "ipython3",
   "version": "3.8.0"
  }
 },
 "nbformat": 4,
 "nbformat_minor": 2
}
