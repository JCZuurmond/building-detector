{
 "cells": [
  {
   "cell_type": "code",
   "execution_count": 1,
   "metadata": {},
   "outputs": [],
   "source": [
    "%matplotlib inline\n",
    "%reload_ext autoreload\n",
    "%autoreload 2"
   ]
  },
  {
   "cell_type": "markdown",
   "metadata": {},
   "source": [
    "# Download a WFS as gml\n",
    "\n",
    "The wfs downloaded is the muncipality of Amsterdam, Netherlands. The wfs is provided by [pdok](https://www.pdok.nl/introductie/-/article/bestuurlijke-grenzen)."
   ]
  },
  {
   "cell_type": "code",
   "execution_count": 2,
   "metadata": {},
   "outputs": [],
   "source": [
    "import ogr\n",
    "from owslib.etree import etree\n",
    "from owslib.fes import PropertyIsLike\n",
    "from owslib.wfs import WebFeatureService\n",
    "\n",
    "from open_data import helpers"
   ]
  },
  {
   "cell_type": "code",
   "execution_count": 3,
   "metadata": {},
   "outputs": [],
   "source": [
    "wfs_url = 'https://geodata.nationaalgeoregister.nl/bestuurlijkegrenzen/wfs'"
   ]
  },
  {
   "cell_type": "code",
   "execution_count": 4,
   "metadata": {},
   "outputs": [
    {
     "data": {
      "text/plain": [
       "'Bestuurlijke grenzen WFS'"
      ]
     },
     "execution_count": 4,
     "metadata": {},
     "output_type": "execute_result"
    }
   ],
   "source": [
    "wfs = WebFeatureService(wfs_url, version='1.1.0')\n",
    "wfs.identification.title"
   ]
  },
  {
   "cell_type": "code",
   "execution_count": 5,
   "metadata": {},
   "outputs": [
    {
     "name": "stdout",
     "output_type": "stream",
     "text": [
      "The WFS has the following layers\n"
     ]
    },
    {
     "data": {
      "text/plain": [
       "['bestuurlijkegrenzen:gemeenten',\n",
       " 'bestuurlijkegrenzen:landsgrens',\n",
       " 'bestuurlijkegrenzen:provincies']"
      ]
     },
     "execution_count": 5,
     "metadata": {},
     "output_type": "execute_result"
    }
   ],
   "source": [
    "print('The WFS has the following layers')\n",
    "list(wfs.contents)"
   ]
  },
  {
   "cell_type": "markdown",
   "metadata": {},
   "source": [
    "We need the `'bestuurlijkegrenzen:gemeenten'` ('gemeenten' is 'municipalities' in Dutch)."
   ]
  },
  {
   "cell_type": "code",
   "execution_count": 6,
   "metadata": {},
   "outputs": [
    {
     "data": {
      "text/plain": [
       "{'properties': {'code': 'string', 'gemeentenaam': 'string'},\n",
       " 'geometry': 'GeometryCollection',\n",
       " 'geometry_column': 'geom'}"
      ]
     },
     "execution_count": 6,
     "metadata": {},
     "output_type": "execute_result"
    }
   ],
   "source": [
    "layer = 'bestuurlijkegrenzen:gemeenten'\n",
    "wfs.get_schema(layer)"
   ]
  },
  {
   "cell_type": "markdown",
   "metadata": {},
   "source": [
    "We will use the `'gemeentenaam'` property to filter for Amsterdam."
   ]
  },
  {
   "cell_type": "code",
   "execution_count": null,
   "metadata": {},
   "outputs": [],
   "source": [
    "muni = 'Amsterdam'\n",
    "filter_ = PropertyIsLike(\n",
    "    propertyname='gemeentenaam', \n",
    "    literal=muni, \n",
    "    matchCase=True,\n",
    ")\n",
    "filterxml = etree.tostring(filter_.toXML()).decode(\"utf-8\")\n",
    "\n",
    "response = wfs.getfeature(typename=layer, filter=filterxml)\n",
    "file_path = f'../data/{muni}.gml'.lower()\n",
    "with open(file_path, 'wb') as f:\n",
    "    f.write(bytes(response.read(), 'UTF-8'))"
   ]
  },
  {
   "cell_type": "markdown",
   "metadata": {},
   "source": [
    "Get the bounding box of the layer."
   ]
  },
  {
   "cell_type": "code",
   "execution_count": null,
   "metadata": {},
   "outputs": [],
   "source": [
    "driver = ogr.GetDriverByName('GML')\n",
    "gml = driver.Open(file_path, 0)\n",
    "layer = gml.GetLayer()\n",
    "bbox = helpers.get_layer_extent(layer)\n",
    "bbox"
   ]
  }
 ],
 "metadata": {
  "kernelspec": {
   "display_name": "Python 3",
   "language": "python",
   "name": "python3"
  },
  "language_info": {
   "codemirror_mode": {
    "name": "ipython",
    "version": 3
   },
   "file_extension": ".py",
   "mimetype": "text/x-python",
   "name": "python",
   "nbconvert_exporter": "python",
   "pygments_lexer": "ipython3",
   "version": "3.8.0"
  }
 },
 "nbformat": 4,
 "nbformat_minor": 2
}
