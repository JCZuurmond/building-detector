{
 "cells": [
  {
   "cell_type": "markdown",
   "metadata": {},
   "source": [
    "# Downloading tiles from a WMTS\n",
    "\n",
    "Author: Cor Zuurmond \n",
    "\n",
    "---\n",
    "\n",
    "This notebook explains how to download tiles from a WMTS given a location (coordinate). \n",
    "\n",
    "We use the [aerial imagery WMTS](https://geodata.nationaalgeoregister.nl/luchtfoto/rgb/wmts?request=GetCapabilities&service=wmts) from PDOK. PDOK contains Dutch open data."
   ]
  },
  {
   "cell_type": "code",
   "execution_count": null,
   "metadata": {},
   "outputs": [],
   "source": [
    "%reload_ext autoreload\n",
    "%autoreload 2"
   ]
  },
  {
   "cell_type": "code",
   "execution_count": null,
   "metadata": {},
   "outputs": [],
   "source": [
    "import open_data.wmts"
   ]
  },
  {
   "cell_type": "code",
   "execution_count": null,
   "metadata": {},
   "outputs": [],
   "source": [
    "# WMTS\n",
    "wmts_base = 'https://geodata.nationaalgeoregister.nl/luchtfoto/rgb/wmts'\n",
    "layer = 'Actueel_ortho25'\n",
    "\n",
    "# Coordinate to request\n",
    "amsterdam = 52.3522554, 4.9130319"
   ]
  },
  {
   "cell_type": "code",
   "execution_count": null,
   "metadata": {},
   "outputs": [],
   "source": [
    "zoom = 12\n",
    "tile_col, tile_row = open_data.wmts.gps_to_tile(*amsterdam, zoom=zoom)\n",
    "tile_col, tile_row"
   ]
  },
  {
   "cell_type": "code",
   "execution_count": null,
   "metadata": {},
   "outputs": [],
   "source": [
    "open_data.wmts.get_wmts_tile_from_coordinate(amsterdam, wmts_base, layer, zoom=12)"
   ]
  },
  {
   "cell_type": "code",
   "execution_count": null,
   "metadata": {},
   "outputs": [],
   "source": [
    "# Create a gif that zooms in on Amsterdam\n",
    "images = [open_data.wmts.get_wmts_tile_from_coordinate(amsterdam, wmts_base, layer, zoom=zoom) for zoom in range(6, 20)]\n",
    "images[0].save(\n",
    "    'static/zooming_amsterdam.gif', \n",
    "    format='GIF', \n",
    "    append_images=images[1:], \n",
    "    save_all=True, \n",
    "    duration=500, \n",
    "    loop=0\n",
    ")"
   ]
  },
  {
   "cell_type": "markdown",
   "metadata": {},
   "source": [
    "Note that the zoom is not similar as Google maps -  it does not feel \"natural\". On every zoom level the tile is requested that contains the coordinate. Becaus\n",
    "\n",
    "<center>\n",
    "    <img src=\"static/zooming_amsterdam.gif\" width=30%>\n",
    "</center>"
   ]
  }
 ],
 "metadata": {
  "kernelspec": {
   "display_name": "Python 3",
   "language": "python",
   "name": "python3"
  },
  "language_info": {
   "codemirror_mode": {
    "name": "ipython",
    "version": 3
   },
   "file_extension": ".py",
   "mimetype": "text/x-python",
   "name": "python",
   "nbconvert_exporter": "python",
   "pygments_lexer": "ipython3",
   "version": "3.6.5"
  }
 },
 "nbformat": 4,
 "nbformat_minor": 2
}
