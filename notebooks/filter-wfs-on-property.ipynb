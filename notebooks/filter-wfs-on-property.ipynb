{
 "cells": [
  {
   "cell_type": "code",
   "execution_count": 1,
   "metadata": {},
   "outputs": [],
   "source": [
    "%matplotlib inline\n",
    "%reload_ext autoreload\n",
    "%autoreload 2"
   ]
  },
  {
   "cell_type": "markdown",
   "metadata": {},
   "source": [
    "# Filter WFS on property\n",
    "\n",
    "The wfs downloaded is the muncipality of Amsterdam, Netherlands. The wfs is provided by [pdok](https://www.pdok.nl/introductie/-/article/bestuurlijke-grenzen)."
   ]
  },
  {
   "cell_type": "code",
   "execution_count": 2,
   "metadata": {},
   "outputs": [],
   "source": [
    "from pathlib import Path\n",
    "\n",
    "import geopandas as gpd\n",
    "from owslib.etree import etree\n",
    "from owslib.fes import PropertyIsEqualTo\n",
    "from owslib.wfs import WebFeatureService\n",
    "\n",
    "from building_detector import helpers\n",
    "\n",
    "\n",
    "wfs_url = 'https://geodata.nationaalgeoregister.nl/bestuurlijkegrenzen/wfs'"
   ]
  },
  {
   "cell_type": "code",
   "execution_count": 3,
   "metadata": {},
   "outputs": [
    {
     "data": {
      "text/plain": [
       "'Bestuurlijke grenzen WFS'"
      ]
     },
     "execution_count": 3,
     "metadata": {},
     "output_type": "execute_result"
    }
   ],
   "source": [
    "wfs = WebFeatureService(wfs_url, version='1.1.0')\n",
    "wfs.identification.title"
   ]
  },
  {
   "cell_type": "code",
   "execution_count": 4,
   "metadata": {},
   "outputs": [
    {
     "name": "stdout",
     "output_type": "stream",
     "text": [
      "The WFS has the following layers\n"
     ]
    },
    {
     "data": {
      "text/plain": [
       "['bestuurlijkegrenzen:gemeenten',\n",
       " 'bestuurlijkegrenzen:landsgrens',\n",
       " 'bestuurlijkegrenzen:provincies']"
      ]
     },
     "execution_count": 4,
     "metadata": {},
     "output_type": "execute_result"
    }
   ],
   "source": [
    "print('The WFS has the following layers')\n",
    "list(wfs.contents)"
   ]
  },
  {
   "cell_type": "markdown",
   "metadata": {},
   "source": [
    "We need the `'bestuurlijkegrenzen:gemeenten'` ('gemeenten' is 'municipalities' in Dutch)."
   ]
  },
  {
   "cell_type": "code",
   "execution_count": 5,
   "metadata": {},
   "outputs": [
    {
     "data": {
      "text/plain": [
       "{'properties': {'code': 'string', 'gemeentenaam': 'string'},\n",
       " 'geometry': 'GeometryCollection',\n",
       " 'geometry_column': 'geom'}"
      ]
     },
     "execution_count": 5,
     "metadata": {},
     "output_type": "execute_result"
    }
   ],
   "source": [
    "layer_name = 'bestuurlijkegrenzen:gemeenten'\n",
    "wfs.get_schema(layer_name)"
   ]
  },
  {
   "cell_type": "markdown",
   "metadata": {},
   "source": [
    "We will use the `'gemeentenaam'` - municipality name - property to filter for `'Amsterdam'`."
   ]
  },
  {
   "cell_type": "code",
   "execution_count": 6,
   "metadata": {},
   "outputs": [
    {
     "data": {
      "text/plain": [
       "121886"
      ]
     },
     "execution_count": 6,
     "metadata": {},
     "output_type": "execute_result"
    }
   ],
   "source": [
    "muni = 'Amsterdam'\n",
    "filter_ = PropertyIsEqualTo(\n",
    "    propertyname='gemeentenaam', \n",
    "    literal=muni, \n",
    "    matchcase=True,\n",
    ")\n",
    "filterxml = etree.tostring(filter_.toXML()).decode(\"utf-8\")\n",
    "\n",
    "response = wfs.getfeature(typename=layer_name, filter=filterxml)\n",
    "\n",
    "muni_path = Path(f'../data/{muni}.gml'.lower())\n",
    "muni_path.write_bytes(bytes(response.read(), 'UTF-8'))"
   ]
  },
  {
   "cell_type": "markdown",
   "metadata": {},
   "source": [
    "Get the bounding box - envelope -  of the layer."
   ]
  },
  {
   "cell_type": "code",
   "execution_count": 7,
   "metadata": {},
   "outputs": [
    {
     "data": {
      "text/plain": [
       "BBox(xmin=110188.384, ymin=476770.797, xmax=134029.81, ymax=493893.636)"
      ]
     },
     "execution_count": 7,
     "metadata": {},
     "output_type": "execute_result"
    }
   ],
   "source": [
    "envelope = gpd.read_file(muni_path).envelope\n",
    "helpers.Bbox.from_poly(envelope[0])"
   ]
  },
  {
   "cell_type": "code",
   "execution_count": 8,
   "metadata": {},
   "outputs": [],
   "source": [
    "envelope_path = muni_path.parent / f'{muni_path.stem}_envelope.gml'\n",
    "envelope.to_file(envelope_path, driver='GML')"
   ]
  }
 ],
 "metadata": {
  "kernelspec": {
   "display_name": "Python 3",
   "language": "python",
   "name": "python3"
  },
  "language_info": {
   "codemirror_mode": {
    "name": "ipython",
    "version": 3
   },
   "file_extension": ".py",
   "mimetype": "text/x-python",
   "name": "python",
   "nbconvert_exporter": "python",
   "pygments_lexer": "ipython3",
   "version": "3.8.0"
  }
 },
 "nbformat": 4,
 "nbformat_minor": 2
}
